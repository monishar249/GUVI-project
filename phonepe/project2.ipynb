{
 "cells": [
  {
   "cell_type": "code",
   "execution_count": 18,
   "metadata": {},
   "outputs": [],
   "source": [
    "import os"
   ]
  },
  {
   "cell_type": "code",
   "execution_count": 19,
   "metadata": {},
   "outputs": [],
   "source": [
    "import json"
   ]
  },
  {
   "cell_type": "code",
   "execution_count": 1,
   "metadata": {},
   "outputs": [],
   "source": [
    "import pandas as pd"
   ]
  },
  {
   "cell_type": "code",
   "execution_count": null,
   "metadata": {},
   "outputs": [],
   "source": [
    "#AGGREGATED_INSURANCE\n",
    "\n",
    "path1=\"C:/Users/Monisha User/Desktop/guvi-project/phonepe/pulse/data/aggregated/insurance/country/india/state/\"\n",
    "\n",
    "column1= {\"States\":[], \"Years\":[], \"Quarter\":[], \"Transaction_count\":[],\"Transaction_amount\":[] }\n",
    "\n",
    "agg_insur_list= os.listdir(path1)\n",
    "\n",
    "for state in agg_insur_list:\n",
    "    cur_states =path1+state+\"/\"\n",
    "    agg_year_list = os.listdir(cur_states)\n",
    "    \n",
    "    for year in agg_year_list:\n",
    "        cur_years = cur_states+year+\"/\"\n",
    "        agg_file_list = os.listdir(cur_years)\n",
    "\n",
    "        for file in agg_file_list:\n",
    "            cur_files = cur_years+file\n",
    "            data = open(cur_files,\"r\")\n",
    "            A=json.load(data)\n",
    "            for i in A[\"data\"]['transactionData']:\n",
    "                count = i[\"paymentInstruments\"][0][\"count\"]\n",
    "                amount = i[\"paymentInstruments\"][0][\"amount\"]\n",
    "                column1[\"Transaction_count\"].append(count)\n",
    "                column1[\"Transaction_amount\"].append(amount)\n",
    "                column1[\"States\"].append(state)\n",
    "                column1[\"Years\"].append(year)\n",
    "                column1[\"Quarter\"].append(int(file.strip(\".json\")))\n",
    "\n",
    "\n",
    "aggregated_insurance = pd.DataFrame(column1)"
   ]
  },
  {
   "cell_type": "code",
   "execution_count": null,
   "metadata": {},
   "outputs": [],
   "source": [
    "aggregated_insurance"
   ]
  },
  {
   "cell_type": "code",
   "execution_count": null,
   "metadata": {},
   "outputs": [],
   "source": [
    "#aggregated_transaction\n",
    "\n",
    "path2=\"C:/Users/Monisha User/Desktop/guvi-project/phonepe/pulse/data/aggregated/transaction/country/india/state/\"\n",
    "#\"C:\\Users\\Monisha User\\Desktop\\guvi-project\\phonepe\\pulse\\data\\aggregated\\transaction\\country\\india\\state\"   \n",
    "      \n",
    "agg_tran_list = os.listdir(path2)\n",
    "\n",
    "column2={\"States\":[], \"Years\":[], \"Quarter\":[], \"Transaction_type\":[], \"Transaction_count\":[],\"Transaction_amount\":[] }\n",
    "\n",
    "for state in agg_tran_list:\n",
    "    cur_states =path2+state+\"/\"\n",
    "    agg_year_list = os.listdir(cur_states)\n",
    "    \n",
    "    for year in agg_year_list:\n",
    "        cur_years = cur_states+year+\"/\"\n",
    "        agg_file_list = os.listdir(cur_years)\n",
    "\n",
    "        for file in agg_file_list:\n",
    "            cur_files = cur_years+file\n",
    "            data = open(cur_files,\"r\")\n",
    "            B = json.load(data)\n",
    "\n",
    "            for i in B[\"data\"][\"transactionData\"]:\n",
    "                name = i[\"name\"]\n",
    "                count = i[\"paymentInstruments\"][0][\"count\"]\n",
    "                amount = i[\"paymentInstruments\"][0][\"amount\"]\n",
    "                column2[\"Transaction_type\"].append(name)\n",
    "                column2[\"Transaction_count\"].append(count)\n",
    "                column2[\"Transaction_amount\"].append(amount)\n",
    "                column2[\"States\"].append(state)\n",
    "                column2[\"Years\"].append(year)\n",
    "                column2[\"Quarter\"].append(int(file.strip(\".json\")))\n",
    "\n",
    "aggregated_transaction = pd.DataFrame(column2)"
   ]
  },
  {
   "cell_type": "code",
   "execution_count": null,
   "metadata": {},
   "outputs": [],
   "source": [
    "aggregated_transaction "
   ]
  },
  {
   "cell_type": "code",
   "execution_count": null,
   "metadata": {},
   "outputs": [],
   "source": [
    "#aggregated_user\n",
    "\n",
    "path3=\"C:/Users/Monisha User/Desktop/guvi-project/phonepe/pulse/data/aggregated/user/country/india/state/\"\n",
    "\n",
    "agg_user_list = os.listdir(path3)\n",
    "\n",
    "column3= {'State': [], 'Year': [], 'Quarter': [], 'Brands': [], 'Count': [],'Percentage': []}\n",
    "\n",
    "for state in agg_user_list:\n",
    "    cur_state = path3 + state + \"/\"\n",
    "    agg_year_list = os.listdir(cur_state)\n",
    "    \n",
    "    for year in agg_year_list:\n",
    "        cur_year = cur_state + year + \"/\"\n",
    "        agg_file_list = os.listdir(cur_year)\n",
    "\n",
    "        for file in agg_file_list:\n",
    "            cur_file = cur_year + file\n",
    "            data = open(cur_file, 'r')\n",
    "            C = json.load(data)\n",
    "            try:\n",
    "                for i in C[\"data\"][\"usersByDevice\"]:\n",
    "                    brand = i[\"brand\"]\n",
    "                    count = i[\"count\"]\n",
    "                    percentage = i[\"percentage\"]\n",
    "                    column3[\"Brands\"].append(brand)\n",
    "                    column3[\"Count\"].append(count)\n",
    "                    column3[\"Percentage\"].append(percentage)\n",
    "                    column3[\"State\"].append(state)\n",
    "                    column3[\"Year\"].append(year)\n",
    "                    column3[\"Quarter\"].append(int(file.strip(\".json\")))\n",
    "            except:\n",
    "                pass\n",
    "            \n",
    "aggregated_user = pd.DataFrame(column3)"
   ]
  },
  {
   "cell_type": "code",
   "execution_count": null,
   "metadata": {},
   "outputs": [],
   "source": [
    "aggregated_user"
   ]
  },
  {
   "cell_type": "code",
   "execution_count": 20,
   "metadata": {},
   "outputs": [],
   "source": [
    "#map_insurance\n",
    "\n",
    "path4=\"C:/Users/Monisha User/Desktop/guvi-project/phonepe/pulse/data/map/insurance/hover/country/india/state/\"\n",
    "\n",
    "map_insur_list= os.listdir(path4)\n",
    "\n",
    "column4= {\"States\":[], \"Years\":[], \"Quarter\":[], \"Districts\":[], \"Transaction_count\":[],\"Transaction_amount\":[] }\n",
    "\n",
    "for state in map_insur_list:\n",
    "    cur_states =path4+state+\"/\"\n",
    "    agg_year_list = os.listdir(cur_states)\n",
    "    \n",
    "    for year in agg_year_list:\n",
    "        cur_years = cur_states+year+\"/\"\n",
    "        agg_file_list = os.listdir(cur_years)\n",
    "\n",
    "        for file in agg_file_list:\n",
    "            cur_files = cur_years+file\n",
    "            data = open(cur_files,\"r\")\n",
    "            D = json.load(data)\n",
    "\n",
    "            for i in D[\"data\"][\"hoverDataList\"]:\n",
    "                name = i[\"name\"]\n",
    "                count = i[\"metric\"][0][\"count\"]\n",
    "                amount = i[\"metric\"][0][\"amount\"]\n",
    "                column4[\"Districts\"].append(name)\n",
    "                column4[\"Transaction_count\"].append(count)\n",
    "                column4[\"Transaction_amount\"].append(amount)\n",
    "                column4[\"States\"].append(state)\n",
    "                column4[\"Years\"].append(year)\n",
    "                column4[\"Quarter\"].append(int(file.strip(\".json\")))\n",
    "\n",
    "\n",
    "map_insurance = pd.DataFrame(column4)"
   ]
  },
  {
   "cell_type": "code",
   "execution_count": null,
   "metadata": {},
   "outputs": [],
   "source": [
    "map_insurance"
   ]
  },
  {
   "cell_type": "code",
   "execution_count": 21,
   "metadata": {},
   "outputs": [],
   "source": [
    "#MAP_TRANSACTION\n",
    "\n",
    "path5 =\"C:/Users/Monisha User/Desktop/guvi-project/phonepe/pulse/data/map/transaction/hover/country/india/state/\"\n",
    "\n",
    "map_trans_list = os.listdir(path5)\n",
    "\n",
    "column5 = {'State': [], 'Year': [], 'Quarter': [], 'District': [], 'Count': [], 'Amount': []}\n",
    "\n",
    "for state in map_trans_list:\n",
    "    cur_state = path5 + state + \"/\"\n",
    "    map_year_list = os.listdir(cur_state)\n",
    "    \n",
    "    for year in map_year_list:\n",
    "        cur_year = cur_state + year + \"/\"\n",
    "        map_file_list = os.listdir(cur_year)\n",
    "        \n",
    "        for file in map_file_list:\n",
    "            cur_file = cur_year + file\n",
    "            data = open(cur_file, 'r')\n",
    "            E = json.load(data)\n",
    "            \n",
    "            for i in E[\"data\"][\"hoverDataList\"]:\n",
    "                district = i[\"name\"]\n",
    "                count = i[\"metric\"][0][\"count\"]\n",
    "                amount = i[\"metric\"][0][\"amount\"]\n",
    "                column5[\"District\"].append(district)\n",
    "                column5[\"Count\"].append(count)\n",
    "                column5[\"Amount\"].append(amount)\n",
    "                column5['State'].append(state)\n",
    "                column5['Year'].append(year)\n",
    "                column5['Quarter'].append(int(file.strip('.json')))\n",
    "                \n",
    "map_transaction= pd.DataFrame(column5)"
   ]
  },
  {
   "cell_type": "code",
   "execution_count": null,
   "metadata": {},
   "outputs": [],
   "source": [
    "map_transaction['Amount']"
   ]
  },
  {
   "cell_type": "code",
   "execution_count": 22,
   "metadata": {},
   "outputs": [],
   "source": [
    "#map_user\n",
    "\n",
    "path6 = \"C:/Users/Monisha User/Desktop/guvi-project/phonepe/pulse/data/map/user/hover/country/india/state/\"\n",
    "\n",
    "map_user_list = os.listdir(path6)\n",
    "\n",
    "columns6= {\"State\": [], \"Year\": [], \"Quarter\": [], \"District\": [],\"RegisteredUser\": [], \"AppOpens\": []}\n",
    "\n",
    "for state in map_user_list:\n",
    "    cur_state = path6 + state + \"/\"\n",
    "    map_year_list = os.listdir(cur_state)\n",
    "    \n",
    "    for year in map_year_list:\n",
    "        cur_year = cur_state + year + \"/\"\n",
    "        map_file_list = os.listdir(cur_year)\n",
    "        \n",
    "        for file in map_file_list:\n",
    "            cur_file = cur_year + file\n",
    "            data = open(cur_file, 'r')\n",
    "            F= json.load(data)\n",
    "            \n",
    "            for i in F[\"data\"][\"hoverData\"].items():\n",
    "                district = i[0]\n",
    "                registereduser = i[1][\"registeredUsers\"]\n",
    "                appOpens = i[1]['appOpens']\n",
    "                columns6[\"District\"].append(district)\n",
    "                columns6[\"RegisteredUser\"].append(registereduser)\n",
    "                columns6[\"AppOpens\"].append(appOpens)\n",
    "                columns6['State'].append(state)\n",
    "                columns6['Year'].append(year)\n",
    "                columns6['Quarter'].append(int(file.strip('.json')))\n",
    "                \n",
    "map_user = pd.DataFrame(columns6)"
   ]
  },
  {
   "cell_type": "code",
   "execution_count": null,
   "metadata": {},
   "outputs": [],
   "source": [
    "map_user"
   ]
  },
  {
   "cell_type": "code",
   "execution_count": 27,
   "metadata": {},
   "outputs": [],
   "source": [
    "#TOP_INSURANCE\n",
    "\n",
    "path7=\"C:/Users/Monisha User/Desktop/guvi-project/phonepe/pulse/data/top/insurance/country/india/state/\"\n",
    "\n",
    "top_insur_list = os.listdir(path7)\n",
    "\n",
    "column7 = {\"States\":[], \"Years\":[], \"Quarter\":[], \"Pincodes\":[], \"Transaction_count\":[], \"Transaction_amount\":[]}\n",
    "\n",
    "for state in top_insur_list:\n",
    "    cur_states = path7+state+\"/\"\n",
    "    top_year_list = os.listdir(cur_states)\n",
    "\n",
    "    for year in top_year_list:\n",
    "        cur_years = cur_states+year+\"/\"\n",
    "        top_file_list = os.listdir(cur_years)\n",
    "\n",
    "        for file in top_file_list:\n",
    "            cur_files = cur_years+file\n",
    "            data = open(cur_files,\"r\")\n",
    "            G = json.load(data)\n",
    "\n",
    "            for i in G[\"data\"][\"pincodes\"]:\n",
    "                entityName = i[\"entityName\"]\n",
    "                count = i[\"metric\"][\"count\"]\n",
    "                amount = i[\"metric\"][\"amount\"]\n",
    "                column7[\"Pincodes\"].append(entityName)\n",
    "                column7[\"Transaction_count\"].append(count)\n",
    "                column7[\"Transaction_amount\"].append(amount)\n",
    "                column7[\"States\"].append(state)\n",
    "                column7[\"Years\"].append(year)\n",
    "                column7[\"Quarter\"].append(int(file.strip(\".json\")))\n",
    "\n",
    "top_insur = pd.DataFrame(column7)"
   ]
  },
  {
   "cell_type": "code",
   "execution_count": null,
   "metadata": {},
   "outputs": [],
   "source": [
    "top_insur "
   ]
  },
  {
   "cell_type": "code",
   "execution_count": 28,
   "metadata": {},
   "outputs": [],
   "source": [
    "#TOP_TRANSACTION\n",
    "\n",
    "path8=\"C:/Users/Monisha User/Desktop/guvi-project/phonepe/pulse/data/top/transaction/country/india/state/\"\n",
    "\n",
    "top_tran_list = os.listdir(path8)\n",
    "\n",
    "column8 = {\"States\":[], \"Years\":[], \"Quarter\":[], \"Pincodes\":[], \"Transaction_count\":[], \"Transaction_amount\":[]}\n",
    "\n",
    "for state in top_tran_list:\n",
    "    cur_states = path8+state+\"/\"\n",
    "    top_year_list = os.listdir(cur_states)\n",
    "    \n",
    "    for year in top_year_list:\n",
    "        cur_years = cur_states+year+\"/\"\n",
    "        top_file_list = os.listdir(cur_years)\n",
    "        \n",
    "        for file in top_file_list:\n",
    "            cur_files = cur_years+file\n",
    "            data = open(cur_files,\"r\")\n",
    "            H = json.load(data)\n",
    "\n",
    "            for i in H[\"data\"][\"pincodes\"]:\n",
    "                entityName = i[\"entityName\"]\n",
    "                count = i[\"metric\"][\"count\"]\n",
    "                amount = i[\"metric\"][\"amount\"]\n",
    "                column8[\"Pincodes\"].append(entityName)\n",
    "                column8[\"Transaction_count\"].append(count)\n",
    "                column8[\"Transaction_amount\"].append(amount)\n",
    "                column8[\"States\"].append(state)\n",
    "                column8[\"Years\"].append(year)\n",
    "                column8[\"Quarter\"].append(int(file.strip(\".json\")))\n",
    "\n",
    "top_transaction = pd.DataFrame(column8)"
   ]
  },
  {
   "cell_type": "code",
   "execution_count": null,
   "metadata": {},
   "outputs": [],
   "source": [
    "top_transaction"
   ]
  },
  {
   "cell_type": "code",
   "execution_count": 29,
   "metadata": {},
   "outputs": [],
   "source": [
    "#TOP_USER\n",
    "\n",
    "path9=\"C:/Users/Monisha User/Desktop/guvi-project/phonepe/pulse/data/top/user/country/india/state/\"\n",
    "\n",
    "top_user_list = os.listdir(path9)\n",
    "\n",
    "column9= {\"States\":[], \"Years\":[], \"Quarter\":[], \"Pincodes\":[], \"RegisteredUser\":[]}\n",
    "\n",
    "for state in top_user_list:\n",
    "    cur_states = path9+state+\"/\"\n",
    "    top_year_list = os.listdir(cur_states)\n",
    "\n",
    "    for year in top_year_list:\n",
    "        cur_years = cur_states+year+\"/\"\n",
    "        top_file_list = os.listdir(cur_years)\n",
    "\n",
    "        for file in top_file_list:\n",
    "            cur_files = cur_years+file\n",
    "            data = open(cur_files,\"r\")\n",
    "            I = json.load(data)\n",
    "\n",
    "            for i in I[\"data\"][\"pincodes\"]:\n",
    "                name = i[\"name\"]\n",
    "                registeredusers = i[\"registeredUsers\"]\n",
    "                column9[\"Pincodes\"].append(name)\n",
    "                column9[\"RegisteredUser\"].append(registeredusers)\n",
    "                column9[\"States\"].append(state)\n",
    "                column9[\"Years\"].append(year)\n",
    "                column9[\"Quarter\"].append(int(file.strip(\".json\")))\n",
    "\n",
    "top_user = pd.DataFrame(column9)"
   ]
  },
  {
   "cell_type": "code",
   "execution_count": null,
   "metadata": {},
   "outputs": [],
   "source": [
    "top_user"
   ]
  },
  {
   "cell_type": "code",
   "execution_count": 2,
   "metadata": {},
   "outputs": [],
   "source": [
    "import mysql.connector"
   ]
  },
  {
   "cell_type": "code",
   "execution_count": null,
   "metadata": {},
   "outputs": [],
   "source": [
    "mydb=mysql.connector.connect(host='localhost',user='root',password='12345',database='phonepe')\n",
    "mycursor=mydb.cursor()"
   ]
  },
  {
   "cell_type": "code",
   "execution_count": null,
   "metadata": {},
   "outputs": [],
   "source": [
    "for i,row in aggregated_insurance.iterrows(): \n",
    "    query = \"INSERT INTO Aggregated_insurance(State,Year,Quarter,Transactioncount,Transactionamount) VALUES (%s,%s,%s,%s,%s)\"\n",
    "    mycursor.execute(query, tuple(row))\n",
    "    mydb.commit()"
   ]
  },
  {
   "cell_type": "code",
   "execution_count": null,
   "metadata": {},
   "outputs": [],
   "source": [
    "for i,row in aggregated_transaction.iterrows(): \n",
    "    query = \"INSERT INTO Aggregated_transaction(State,Year,Quarter,Transactiontype,Transactioncount,Transactionamount) VALUES (%s,%s,%s,%s,%s,%s)\"\n",
    "    mycursor.execute(query, tuple(row))\n",
    "    mydb.commit()"
   ]
  },
  {
   "cell_type": "code",
   "execution_count": null,
   "metadata": {},
   "outputs": [],
   "source": [
    "for i,row in aggregated_user.iterrows(): \n",
    "    query = \"INSERT INTO Aggregated_user(State,Year,Quarter,brands,count,percentage) VALUES (%s,%s,%s,%s,%s,%s)\"\n",
    "    mycursor.execute(query, tuple(row))\n",
    "    mydb.commit()"
   ]
  },
  {
   "cell_type": "code",
   "execution_count": 23,
   "metadata": {},
   "outputs": [],
   "source": [
    "for i,row in map_insurance.iterrows(): \n",
    "    query = \"INSERT INTO map_insurance(State,Year,Quarter,districts,transactioncount,transactionamount) VALUES (%s,%s,%s,%s,%s,%s)\"\n",
    "    mycursor.execute(query, tuple(row))\n",
    "    mydb.commit()   "
   ]
  },
  {
   "cell_type": "code",
   "execution_count": 24,
   "metadata": {},
   "outputs": [],
   "source": [
    "for i,row in map_transaction.iterrows(): \n",
    "    query = \"INSERT INTO map_transaction(State,Year,Quarter,district,count,amount) VALUES (%s,%s,%s,%s,%s,%s)\"\n",
    "    mycursor.execute(query, tuple(row))\n",
    "    mydb.commit()"
   ]
  },
  {
   "cell_type": "code",
   "execution_count": 25,
   "metadata": {},
   "outputs": [],
   "source": [
    "for i,row in map_user.iterrows(): \n",
    "    query = \"INSERT INTO map_user(State,Year,Quarter,district, Registereduser,appopens) VALUES (%s,%s,%s,%s,%s,%s)\"\n",
    "    mycursor.execute(query, tuple(row))\n",
    "    mydb.commit()"
   ]
  },
  {
   "cell_type": "code",
   "execution_count": 30,
   "metadata": {},
   "outputs": [],
   "source": [
    "for i,row in top_insur.iterrows(): \n",
    "    query = \"INSERT INTO top_insurance(State,Year,Quarter,pincode,transactioncount,transactionamount) VALUES (%s,%s,%s,%s,%s,%s)\"\n",
    "    mycursor.execute(query, tuple(row))\n",
    "    mydb.commit()"
   ]
  },
  {
   "cell_type": "code",
   "execution_count": 31,
   "metadata": {},
   "outputs": [],
   "source": [
    "for i,row in top_transaction.iterrows(): \n",
    "    query = \"INSERT INTO top_transaction(State,Year,Quarter,pincode,transactioncount,transactionamount) VALUES (%s,%s,%s,%s,%s,%s)\"\n",
    "    mycursor.execute(query, tuple(row))\n",
    "    mydb.commit()"
   ]
  },
  {
   "cell_type": "code",
   "execution_count": 33,
   "metadata": {},
   "outputs": [],
   "source": [
    "for i,row in top_user.iterrows(): \n",
    "    query = \"INSERT INTO top_user(State,Year,Quarter,pincode,registereduser) VALUES (%s,%s,%s,%s,%s)\"\n",
    "    mycursor.execute(query, tuple(row))\n",
    "    mydb.commit()"
   ]
  }
 ],
 "metadata": {
  "kernelspec": {
   "display_name": ".venv",
   "language": "python",
   "name": "python3"
  },
  "language_info": {
   "codemirror_mode": {
    "name": "ipython",
    "version": 3
   },
   "file_extension": ".py",
   "mimetype": "text/x-python",
   "name": "python",
   "nbconvert_exporter": "python",
   "pygments_lexer": "ipython3",
   "version": "3.11.3"
  }
 },
 "nbformat": 4,
 "nbformat_minor": 2
}

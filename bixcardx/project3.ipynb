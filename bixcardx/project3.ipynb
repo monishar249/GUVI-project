{
 "cells": [
  {
   "cell_type": "code",
   "execution_count": 1,
   "metadata": {},
   "outputs": [],
   "source": [
    "import easyocr"
   ]
  },
  {
   "cell_type": "code",
   "execution_count": 12,
   "metadata": {},
   "outputs": [
    {
     "name": "stderr",
     "output_type": "stream",
     "text": [
      "Neither CUDA nor MPS are available - defaulting to CPU. Note: This module is much faster with a GPU.\n"
     ]
    },
    {
     "name": "stdout",
     "output_type": "stream",
     "text": [
      "detection Selva\n",
      "res ['Selva']\n",
      "detection DATA MANAGER\n",
      "res ['Selva', 'DATA MANAGER']\n",
      "detection +123-456-7890\n",
      "res ['Selva', 'DATA MANAGER', '+123-456-7890']\n",
      "detection +123-456-7891\n",
      "res ['Selva', 'DATA MANAGER', '+123-456-7890', '+123-456-7891']\n",
      "detection WWW XYZI.com\n",
      "res ['Selva', 'DATA MANAGER', '+123-456-7890', '+123-456-7891', 'WWW XYZI.com']\n",
      "detection hello@XYZ1.com\n",
      "res ['Selva', 'DATA MANAGER', '+123-456-7890', '+123-456-7891', 'WWW XYZI.com', 'hello@XYZ1.com']\n",
      "detection 123 ABC St , Chennai;\n",
      "res ['Selva', 'DATA MANAGER', '+123-456-7890', '+123-456-7891', 'WWW XYZI.com', 'hello@XYZ1.com', '123 ABC St , Chennai;']\n",
      "detection selva\n",
      "res ['Selva', 'DATA MANAGER', '+123-456-7890', '+123-456-7891', 'WWW XYZI.com', 'hello@XYZ1.com', '123 ABC St , Chennai;', 'selva']\n",
      "detection TamilNadu 600113\n",
      "res ['Selva', 'DATA MANAGER', '+123-456-7890', '+123-456-7891', 'WWW XYZI.com', 'hello@XYZ1.com', '123 ABC St , Chennai;', 'selva', 'TamilNadu 600113']\n",
      "detection digitals\n",
      "res ['Selva', 'DATA MANAGER', '+123-456-7890', '+123-456-7891', 'WWW XYZI.com', 'hello@XYZ1.com', '123 ABC St , Chennai;', 'selva', 'TamilNadu 600113', 'digitals']\n"
     ]
    }
   ],
   "source": [
    "image_path = \"C:/Users/Monisha User/Desktop/guvi-project/bixcardz/1.png\"\n",
    "\n",
    "reader = easyocr.Reader(['en'])  \n",
    "\n",
    "res = reader.readtext(image_path )\n",
    "\n",
    "result=[]\n",
    "for detection in res:\n",
    "   result.append(detection[1])\n"
   ]
  },
  {
   "cell_type": "code",
   "execution_count": 20,
   "metadata": {},
   "outputs": [],
   "source": [
    "data = {\n",
    "        \"Company_name\": [],\n",
    "        \"Card_holder\": [],\n",
    "        \"Designation\": [],\n",
    "        \"Mobile_number\": [],\n",
    "        \"Email\": [],\n",
    "        \"Website\": [],\n",
    "        \"Area\": [],\n",
    "        \"City\": [],\n",
    "        \"State\": [],\n",
    "        \"Pin_code\": [] }"
   ]
  },
  {
   "cell_type": "code",
   "execution_count": 13,
   "metadata": {},
   "outputs": [],
   "source": [
    "import re"
   ]
  },
  {
   "cell_type": "code",
   "execution_count": 21,
   "metadata": {},
   "outputs": [],
   "source": [
    "\n",
    "\n",
    "# funtion define\n",
    "def get_data(res):\n",
    "    city = \"\"  # Initialize the city variable\n",
    "    for ind, i in enumerate(res):\n",
    "        # To get WEBSITE_URL\n",
    "        if \"www \" in i.lower() or \"www.\" in i.lower():\n",
    "            data[\"Website\"].append(i)\n",
    "        elif \"WWW\" in i:\n",
    "            data[\"Website\"].append(res[ind-1] + \".\" + res[ind])\n",
    "\n",
    "        # To get EMAIL ID\n",
    "        elif \"@\" in i:\n",
    "            data[\"Email\"].append(i)\n",
    "\n",
    "        # To get MOBILE NUMBER\n",
    "        elif \"-\" in i:\n",
    "            data[\"Mobile_number\"].append(i)\n",
    "            if len(data[\"Mobile_number\"]) == 2:\n",
    "                data[\"Mobile_number\"] = \" & \".join(data[\"Mobile_number\"])\n",
    "\n",
    "        # To get COMPANY NAME\n",
    "        elif ind == len(res) - 1:\n",
    "            data[\"Company_name\"].append(i)\n",
    "\n",
    "        # To get CARD HOLDER NAME\n",
    "        elif ind == 0:\n",
    "            data[\"Card_holder\"].append(i)\n",
    "\n",
    "        # To get DESIGNATION\n",
    "        elif ind == 1:\n",
    "            data[\"Designation\"].append(i)\n",
    "\n",
    "        # To get AREA\n",
    "        if re.findall(\"^[0-9].+, [a-zA-Z]+\", i):\n",
    "            data[\"Area\"].append(i.split(\",\")[0])\n",
    "        elif re.findall(\"[0-9] [a-zA-Z]+\", i):\n",
    "            data[\"Area\"].append(i)\n",
    "\n",
    "        # To get CITY NAME\n",
    "        match1 = re.findall(\".+St , ([a-zA-Z]+).+\", i)\n",
    "        match2 = re.findall(\".+St,, ([a-zA-Z]+).+\", i)\n",
    "        match3 = re.findall(\"^[E].*\", i)\n",
    "        if match1:\n",
    "            city = match1[0]  # Assign the matched city value\n",
    "        elif match2:\n",
    "            city = match2[0]  # Assign the matched city value\n",
    "        elif match3:\n",
    "            city = match3[0]  # Assign the matched city value\n",
    "\n",
    "        # To get STATE\n",
    "        state_match = re.findall(\"[a-zA-Z]{9} +[0-9]\", i)\n",
    "        if state_match:\n",
    "            data[\"State\"].append(i[:9])\n",
    "        elif re.findall(\"^[0-9].+, ([a-zA-Z]+);\", i):\n",
    "            data[\"State\"].append(i.split()[-1])\n",
    "        if len(data[\"State\"]) == 2:\n",
    "            data[\"State\"].pop(0)\n",
    "\n",
    "        # To get PINCODE\n",
    "        if len(i) >= 6 and i.isdigit():\n",
    "            data[\"Pin_code\"].append(i)\n",
    "        elif re.findall(\"[a-zA-Z]{9} +[0-9]\", i):\n",
    "            data[\"Pin_code\"].append(i[10:])\n",
    "\n",
    "    data[\"City\"].append(city) "
   ]
  },
  {
   "cell_type": "code",
   "execution_count": 22,
   "metadata": {},
   "outputs": [],
   "source": [
    "\n",
    "get_data(result)"
   ]
  },
  {
   "cell_type": "code",
   "execution_count": 23,
   "metadata": {},
   "outputs": [
    {
     "data": {
      "text/plain": [
       "{'Company_name': ['digitals'],\n",
       " 'Card_holder': ['Selva'],\n",
       " 'Designation': ['DATA MANAGER'],\n",
       " 'Mobile_number': '+123-456-7890 & +123-456-7891',\n",
       " 'Email': ['hello@XYZ1.com'],\n",
       " 'Website': ['WWW XYZI.com'],\n",
       " 'Area': ['123 ABC St '],\n",
       " 'City': ['Chennai'],\n",
       " 'State': ['TamilNadu'],\n",
       " 'Pin_code': ['600113']}"
      ]
     },
     "execution_count": 23,
     "metadata": {},
     "output_type": "execute_result"
    }
   ],
   "source": [
    "data"
   ]
  },
  {
   "cell_type": "code",
   "execution_count": 26,
   "metadata": {},
   "outputs": [],
   "source": [
    "import pandas as pd"
   ]
  },
  {
   "cell_type": "code",
   "execution_count": 27,
   "metadata": {},
   "outputs": [],
   "source": [
    "data_df = pd.DataFrame(data)"
   ]
  },
  {
   "cell_type": "code",
   "execution_count": 28,
   "metadata": {},
   "outputs": [
    {
     "data": {
      "text/html": [
       "<div>\n",
       "<style scoped>\n",
       "    .dataframe tbody tr th:only-of-type {\n",
       "        vertical-align: middle;\n",
       "    }\n",
       "\n",
       "    .dataframe tbody tr th {\n",
       "        vertical-align: top;\n",
       "    }\n",
       "\n",
       "    .dataframe thead th {\n",
       "        text-align: right;\n",
       "    }\n",
       "</style>\n",
       "<table border=\"1\" class=\"dataframe\">\n",
       "  <thead>\n",
       "    <tr style=\"text-align: right;\">\n",
       "      <th></th>\n",
       "      <th>Company_name</th>\n",
       "      <th>Card_holder</th>\n",
       "      <th>Designation</th>\n",
       "      <th>Mobile_number</th>\n",
       "      <th>Email</th>\n",
       "      <th>Website</th>\n",
       "      <th>Area</th>\n",
       "      <th>City</th>\n",
       "      <th>State</th>\n",
       "      <th>Pin_code</th>\n",
       "    </tr>\n",
       "  </thead>\n",
       "  <tbody>\n",
       "    <tr>\n",
       "      <th>0</th>\n",
       "      <td>digitals</td>\n",
       "      <td>Selva</td>\n",
       "      <td>DATA MANAGER</td>\n",
       "      <td>+123-456-7890 &amp; +123-456-7891</td>\n",
       "      <td>hello@XYZ1.com</td>\n",
       "      <td>WWW XYZI.com</td>\n",
       "      <td>123 ABC St</td>\n",
       "      <td>Chennai</td>\n",
       "      <td>TamilNadu</td>\n",
       "      <td>600113</td>\n",
       "    </tr>\n",
       "  </tbody>\n",
       "</table>\n",
       "</div>"
      ],
      "text/plain": [
       "  Company_name Card_holder   Designation                  Mobile_number  \\\n",
       "0     digitals       Selva  DATA MANAGER  +123-456-7890 & +123-456-7891   \n",
       "\n",
       "            Email       Website         Area     City      State Pin_code  \n",
       "0  hello@XYZ1.com  WWW XYZI.com  123 ABC St   Chennai  TamilNadu   600113  "
      ]
     },
     "execution_count": 28,
     "metadata": {},
     "output_type": "execute_result"
    }
   ],
   "source": [
    "data_df"
   ]
  }
 ],
 "metadata": {
  "kernelspec": {
   "display_name": "Python 3",
   "language": "python",
   "name": "python3"
  },
  "language_info": {
   "codemirror_mode": {
    "name": "ipython",
    "version": 3
   },
   "file_extension": ".py",
   "mimetype": "text/x-python",
   "name": "python",
   "nbconvert_exporter": "python",
   "pygments_lexer": "ipython3",
   "version": "3.11.3"
  }
 },
 "nbformat": 4,
 "nbformat_minor": 2
}
